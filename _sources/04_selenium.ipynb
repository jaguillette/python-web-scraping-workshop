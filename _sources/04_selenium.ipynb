{
 "cells": [
  {
   "cell_type": "markdown",
   "metadata": {},
   "source": [
    "# Selenium\n",
    "\n",
    "Sometimes, you'll encounter a page that loads content after the initial page load. You might get a very small HTML file from requests that doesn't contain everything on the page. This happens when a page is relying on JavaScript to load its contents, and can be difficult to deal with when scraping. One such site is the WHO photo archive. We're going to take a look at scraping a [collection of photos of WHO staff](https://photos.hq.who.int/galleries/172/who-staff-in-office) to show how you might approach scraping such a site.\n",
    "\n",
    "We'll use Selenium to get around this page load issue. Selenium was built as a front-end testing tool, allowing developers to automatically make sure that their applications still work as they change them. This functionality translates well to web scraping, since it creates an actual web browser window controlled by Python. That will let our scripts take advantage of the browser's ability to use JS content, and will let us scrape anything that we can see when we're browsing a site as a normal user.\n",
    "\n",
    "## Setup\n",
    "\n",
    "Selenium sets up a webdriver object that will be your primary way to interact with the Python-controlled browser. So first we'll create that object and use it to fetch a page."
   ]
  },
  {
   "cell_type": "code",
   "execution_count": null,
   "metadata": {
    "vscode": {
     "languageId": "plaintext"
    }
   },
   "outputs": [],
   "source": [
    "from selenium import webdriver"
   ]
  },
  {
   "cell_type": "code",
   "execution_count": null,
   "metadata": {},
   "outputs": [],
   "source": [
    "# Uncomment and run this cell if you're running this notebook out of WSL or another headless environment\n",
    "# If that doesn't make sense to you then it probably doesn't apply to you\n",
    "# I copied this out of a stack overflow post, for reference: https://stackoverflow.com/questions/46809135/webdriver-exceptionprocess-unexpectedly-closed-with-status-1\n",
    "# from selenium.webdriver import FirefoxOptions\n",
    "\n",
    "# opts = FirefoxOptions()\n",
    "# opts.add_argument(\"--headless\")\n",
    "# driver = webdriver.Firefox(options=opts)"
   ]
  },
  {
   "cell_type": "code",
   "execution_count": null,
   "metadata": {
    "tags": []
   },
   "outputs": [],
   "source": [
    "# We'll be using firefox for this. This is why you need both Firefox and geckodriver installed, so that Selenium has a browser to run\n",
    "driver = webdriver.Firefox()"
   ]
  },
  {
   "cell_type": "code",
   "execution_count": null,
   "metadata": {},
   "outputs": [],
   "source": [
    "# Getting a url is pretty simple:\n",
    "driver.get(\"https://photos.hq.who.int/galleries/172/who-staff-in-office\")"
   ]
  },
  {
   "cell_type": "markdown",
   "metadata": {},
   "source": [
    "## Examining the site\n",
    "\n",
    "If we take a look at this site, we can figure out what information we might want and where it lives. There's a gallery of photos, and when you click on one, it shows more information about the photo. If we want to collect metadata about these photos, for instance to take a look at where the photos were taken and in what context, we'd need to click on each photo and copy that information out of the pop-up. Since the url isn't changing when we click around, we have strong evidence that `requests` won't work, although you're welcome to try for yourself.\n",
    "\n",
    "It looks like the images have a class called \"hovThumb\" on them, so we can take a look and see if that will select what we want. Selenium has a built-in ability to use css selectors, which you'll see below. You can always feed the page source into Beautiful Soup if you prefer that syntax, but we'll look at how selenium thinks."
   ]
  },
  {
   "cell_type": "code",
   "execution_count": null,
   "metadata": {
    "tags": []
   },
   "outputs": [],
   "source": [
    "driver.find_elements(by=\"css selector\", value=\".hovThumb\")"
   ]
  },
  {
   "cell_type": "code",
   "execution_count": null,
   "metadata": {},
   "outputs": [],
   "source": [
    "driver.find_elements(by=\"css selector\", value=\".hovThumb\")[0].click()"
   ]
  },
  {
   "cell_type": "markdown",
   "metadata": {},
   "source": [
    "Hm, this is odd. If we look at the end of the stack trace, we can see that we can't click on the element we've selected (the first thing with a `hovthumb` tag), because another element obscures it. It looks like that also has the same `hovThumb` tag, but with an additional `blankDL` tag. Let's try selecting elements with both those tags."
   ]
  },
  {
   "cell_type": "code",
   "execution_count": null,
   "metadata": {},
   "outputs": [],
   "source": [
    "driver.find_elements(by=\"css selector\", value=\".hovThumb.blankDL\")[0].click()"
   ]
  },
  {
   "cell_type": "markdown",
   "metadata": {},
   "source": [
    "## Getting out HTML contents\n",
    "\n",
    "Success! We're able to click on that, and looking at our live browser, it looks right. Looking again in our inspector tool, it looks like we can find the HTML for the pop-up window in an element with the id `previewPopupWindow`. I'll show how you might get the HTML content of that to feed to another parser, if you prefer."
   ]
  },
  {
   "cell_type": "code",
   "execution_count": null,
   "metadata": {},
   "outputs": [],
   "source": [
    "popupContent = driver.find_element(by=\"id\", value=\"previewPopupWindow\")"
   ]
  },
  {
   "cell_type": "code",
   "execution_count": null,
   "metadata": {
    "tags": []
   },
   "outputs": [],
   "source": [
    "# You can use the get_attribute function to get the \"innerHTML\" for anything you've selected in Selenium\n",
    "print(popupContent.get_attribute(\"innerHTML\"))"
   ]
  },
  {
   "cell_type": "markdown",
   "metadata": {},
   "source": [
    "## Selenium selectors\n",
    "\n",
    "Going back to our inspector, we can find a few things that might be of interest. One is the top headline, and another is the description below it. There's more interesting information, but that's for you to hack on later!\n",
    "\n",
    "Fortunately, the headline and description look like they have their own ids, so it's very easy for us to grab text from them."
   ]
  },
  {
   "cell_type": "code",
   "execution_count": null,
   "metadata": {},
   "outputs": [],
   "source": [
    "driver.find_element(by=\"id\", value=\"ctblc_headline\").text"
   ]
  },
  {
   "cell_type": "code",
   "execution_count": null,
   "metadata": {},
   "outputs": [],
   "source": [
    "driver.find_element(by=\"id\", value=\"ctblc_desc\").text"
   ]
  },
  {
   "cell_type": "markdown",
   "metadata": {},
   "source": [
    "Now that we've got some information, we need to close the popup. Remember how we couldn't click on something because it was obscured by something else? That will happen again if we leave the popup up."
   ]
  },
  {
   "cell_type": "code",
   "execution_count": null,
   "metadata": {},
   "outputs": [],
   "source": [
    "driver.find_element(by=\"css selector\", value=\".btn-close-popup\").click()"
   ]
  },
  {
   "cell_type": "markdown",
   "metadata": {},
   "source": [
    "## Defining a scraping function\n",
    "\n",
    "Like we did in Beautiful Soup, we'll define a function to standardize what we just did. Assuming we have a popup open, we can use this function to extract the headline and description from it."
   ]
  },
  {
   "cell_type": "code",
   "execution_count": null,
   "metadata": {},
   "outputs": [],
   "source": [
    "def get_popup_content():\n",
    "    headline = driver.find_element(by=\"id\", value=\"ctblc_headline\").text\n",
    "    description = driver.find_element(by=\"id\", value=\"ctblc_desc\").text\n",
    "    driver.find_element(by=\"css selector\", value=\".btn-close-popup\").click()\n",
    "    return {'headline': headline, 'description': description}"
   ]
  },
  {
   "cell_type": "code",
   "execution_count": null,
   "metadata": {},
   "outputs": [],
   "source": [
    "# Let's try applying our function!\n",
    "metadata = []\n",
    "for link in driver.find_elements(by=\"css selector\", value=\".hovThumb.blankDL\"):\n",
    "    link.click()\n",
    "    metadata.append(get_popup_content())"
   ]
  },
  {
   "cell_type": "markdown",
   "metadata": {},
   "source": [
    "## Handling errors\n",
    "\n",
    "Oh no! We've run into a problem. Our script couldn't find the headline element. There are two ways this could happen. One is that sometimes a popup might not have a title, which we can accommodate in our function. The other is more complicated.\n",
    "\n",
    "Essentially, our script is running at the speed of a python script, executing code as fast as it possibly can. The browser, however, is running at the speed of a browser, which has to wait for network calls and stuff. We only want our script to go looking for data once the data is there, so we have to wait until a consistent element is loaded until we have it try. To do that, we need to import a bunch of other stuff from selenium.\n",
    "\n",
    "It may comfort you to know that I didn't know how to do all this just because I'm so smart, I looked it up on stack overflow and copied over some code from someone further along. Here's that post for reference: [https://stackoverflow.com/questions/26566799/wait-until-page-is-loaded-with-selenium-webdriver-for-python](https://stackoverflow.com/questions/26566799/wait-until-page-is-loaded-with-selenium-webdriver-for-python). Using other people's code is a great way to learn, since you still have to figure out how to make it work in your context."
   ]
  },
  {
   "cell_type": "code",
   "execution_count": null,
   "metadata": {},
   "outputs": [],
   "source": [
    "from selenium.webdriver.support.ui import WebDriverWait\n",
    "from selenium.webdriver.support import expected_conditions as EC\n",
    "from selenium.webdriver.common.by import By\n",
    "from selenium.common.exceptions import TimeoutException, NoSuchElementException"
   ]
  },
  {
   "cell_type": "code",
   "execution_count": null,
   "metadata": {},
   "outputs": [],
   "source": [
    "def get_popup_content():\n",
    "    try:\n",
    "        headline = driver.find_element(by=\"id\", value=\"ctblc_headline\").text\n",
    "    except NoSuchElementException:\n",
    "        headline = \"\"\n",
    "    description = driver.find_element(by=\"id\", value=\"ctblc_desc\").text\n",
    "    driver.find_element(by=\"css selector\", value=\".btn-close-popup\").click()\n",
    "    return {'headline': headline, 'description': description}"
   ]
  },
  {
   "cell_type": "code",
   "execution_count": null,
   "metadata": {},
   "outputs": [],
   "source": [
    "# Make sure the popup is closed before we start!\n",
    "driver.find_element(by=\"css selector\", value=\".btn-close-popup\").click()"
   ]
  },
  {
   "cell_type": "code",
   "execution_count": null,
   "metadata": {},
   "outputs": [],
   "source": [
    "metadata = []\n",
    "delay = 3 # seconds\n",
    "for link in driver.find_elements(by=\"css selector\", value=\".hovThumb.blankDL\"):\n",
    "    link.click()\n",
    "    try:\n",
    "        WebDriverWait(driver, delay).until(EC.presence_of_element_located((By.ID, 'menuDetailsTab')))\n",
    "        metadata.append(get_popup_content())\n",
    "        WebDriverWait(driver, delay).until(EC.invisibility_of_element_located((By.ID, 'menuDetailsTab')))\n",
    "    except TimeoutException:\n",
    "        print(\"Loading took too much time!\")"
   ]
  },
  {
   "cell_type": "markdown",
   "metadata": {},
   "source": [
    "What's blocking us now? Taking a closer look, it seems like it's the cookie banner! You can close it in the visible browser, but it's not a bad idea to build closing it into your script."
   ]
  },
  {
   "cell_type": "code",
   "execution_count": null,
   "metadata": {},
   "outputs": [],
   "source": [
    "driver.find_element(by=\"css selector\", value=\".cc_btn_accept_all\").click()"
   ]
  },
  {
   "cell_type": "code",
   "execution_count": null,
   "metadata": {},
   "outputs": [],
   "source": [
    "# Trying again, without the bar\n",
    "metadata = []\n",
    "delay = 3 # seconds\n",
    "for link in driver.find_elements(by=\"css selector\", value=\".hovThumb.blankDL\"):\n",
    "    link.click()\n",
    "    try:\n",
    "        WebDriverWait(driver, delay).until(EC.presence_of_element_located((By.ID, 'menuDetailsTab')))\n",
    "        metadata.append(get_popup_content())\n",
    "        WebDriverWait(driver, delay).until(EC.invisibility_of_element_located((By.ID, 'menuDetailsTab')))\n",
    "    except TimeoutException:\n",
    "        print(\"Loading took too much time!\")"
   ]
  },
  {
   "cell_type": "markdown",
   "metadata": {},
   "source": [
    "Hey, we finished without errors! Let's see how much stuff we have."
   ]
  },
  {
   "cell_type": "code",
   "execution_count": null,
   "metadata": {},
   "outputs": [],
   "source": [
    "len(metadata)"
   ]
  },
  {
   "cell_type": "markdown",
   "metadata": {},
   "source": [
    "## Preparing the final scrape\n",
    "\n",
    "Ah, that's not good. We have 50 things, but looking at the page, you can see it says there are 110 files in the gallery. Why do we only have 50?\n",
    "\n",
    "```{toggle}\n",
    "If you scroll down the page, you'll see the page get longer with more items. When we got our list of links to iterate through, we only saw what was there at the initial page load. We'll need to update our list as we go to get everything. As an alternative, we can keep track of how many links we've accessed, update the list every time we hit a new link, and just access the next link in sequence.\n",
    "```"
   ]
  },
  {
   "cell_type": "code",
   "execution_count": null,
   "metadata": {},
   "outputs": [],
   "source": [
    "counter = 0\n",
    "metadata = []\n",
    "delay = 3 # seconds\n",
    "# This line should scare you! We have to be really confident that we'll get an IndexError to use this,\n",
    "# otherwise the code could get stuck in an infinite loop.\n",
    "while True:\n",
    "    try:\n",
    "        link = driver.find_elements(by=\"css selector\", value=\".hovThumb.blankDL\")[counter]\n",
    "        link.click()\n",
    "        counter += 1\n",
    "        try:\n",
    "            WebDriverWait(driver, delay).until(EC.presence_of_element_located((By.ID, 'menuDetailsTab')))\n",
    "            metadata.append(get_popup_content())\n",
    "            WebDriverWait(driver, delay).until(EC.invisibility_of_element_located((By.ID, 'menuDetailsTab')))\n",
    "        except TimeoutException:\n",
    "            print(\"Loading took too much time!\")\n",
    "    except IndexError:\n",
    "        break"
   ]
  },
  {
   "cell_type": "code",
   "execution_count": null,
   "metadata": {},
   "outputs": [],
   "source": [
    "len(metadata)"
   ]
  },
  {
   "cell_type": "markdown",
   "metadata": {},
   "source": [
    "## Exporting with pandas\n",
    "\n",
    "That looks better! Now, your mission, should you choose to accept it (and if we have time) is to get more data from each of those popups and include it in our list of metadata. When you're done, you can use the lines below to export the data to a spreadsheet using `pandas`."
   ]
  },
  {
   "cell_type": "code",
   "execution_count": null,
   "metadata": {},
   "outputs": [],
   "source": [
    "import pandas as pd"
   ]
  },
  {
   "cell_type": "code",
   "execution_count": null,
   "metadata": {},
   "outputs": [],
   "source": [
    "df = pd.DataFrame(metadata)\n",
    "df.head()"
   ]
  },
  {
   "cell_type": "code",
   "execution_count": null,
   "metadata": {},
   "outputs": [],
   "source": [
    "df.to_csv(\"who_photo_metadata.csv\")"
   ]
  }
 ],
 "metadata": {
  "kernelspec": {
   "display_name": "Python 3 (ipykernel)",
   "language": "python",
   "name": "python3"
  },
  "language_info": {
   "codemirror_mode": {
    "name": "ipython",
    "version": 3
   },
   "file_extension": ".py",
   "mimetype": "text/x-python",
   "name": "python",
   "nbconvert_exporter": "python",
   "pygments_lexer": "ipython3",
   "version": "3.8.10"
  }
 },
 "nbformat": 4,
 "nbformat_minor": 4
}
