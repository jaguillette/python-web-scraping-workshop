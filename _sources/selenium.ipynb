{
 "cells": [
  {
   "cell_type": "markdown",
   "metadata": {},
   "source": [
    "# Selenium\n",
    "\n",
    "[Site to scrape](https://photos.hq.who.int/galleries/172/who-staff-in-office)"
   ]
  },
  {
   "cell_type": "code",
   "execution_count": null,
   "metadata": {
    "vscode": {
     "languageId": "plaintext"
    }
   },
   "outputs": [],
   "source": [
    "from selenium import webdriver"
   ]
  },
  {
   "cell_type": "code",
   "execution_count": null,
   "metadata": {},
   "outputs": [],
   "source": [
    "driver = webdriver.Firefox()"
   ]
  },
  {
   "cell_type": "code",
   "execution_count": null,
   "metadata": {},
   "outputs": [],
   "source": [
    "driver.get(\"https://photos.hq.who.int/galleries/172/who-staff-in-office\")"
   ]
  },
  {
   "cell_type": "code",
   "execution_count": null,
   "metadata": {
    "collapsed": true,
    "jupyter": {
     "outputs_hidden": true
    },
    "tags": []
   },
   "outputs": [],
   "source": [
    "driver.find_elements(by=\"css selector\", value=\".hovThumb\")"
   ]
  },
  {
   "cell_type": "code",
   "execution_count": null,
   "metadata": {},
   "outputs": [],
   "source": [
    "driver.find_elements(by=\"css selector\", value=\".hovThumb\")[0].click()"
   ]
  },
  {
   "cell_type": "code",
   "execution_count": null,
   "metadata": {},
   "outputs": [],
   "source": [
    "driver.find_elements(by=\"css selector\", value=\".hovThumb.blankDL\")[0].click()"
   ]
  },
  {
   "cell_type": "code",
   "execution_count": null,
   "metadata": {},
   "outputs": [],
   "source": [
    "popupContent = driver.find_element(by=\"id\", value=\"previewPopupWindow\")"
   ]
  },
  {
   "cell_type": "code",
   "execution_count": null,
   "metadata": {
    "collapsed": true,
    "jupyter": {
     "outputs_hidden": true
    },
    "tags": []
   },
   "outputs": [],
   "source": [
    "print(popupContent.get_attribute(\"innerHTML\"))"
   ]
  },
  {
   "cell_type": "code",
   "execution_count": null,
   "metadata": {},
   "outputs": [],
   "source": [
    "driver.find_element(by=\"id\", value=\"ctblc_headline\").text"
   ]
  },
  {
   "cell_type": "code",
   "execution_count": null,
   "metadata": {},
   "outputs": [],
   "source": [
    "driver.find_element(by=\"id\", value=\"ctblc_desc\").text"
   ]
  },
  {
   "cell_type": "code",
   "execution_count": null,
   "metadata": {},
   "outputs": [],
   "source": [
    "driver.find_element(by=\"css selector\", value=\".btn-close-popup\").click()"
   ]
  },
  {
   "cell_type": "code",
   "execution_count": null,
   "metadata": {},
   "outputs": [],
   "source": [
    "def get_popup_content():\n",
    "    headline = driver.find_element(by=\"id\", value=\"ctblc_headline\").text\n",
    "    description = driver.find_element(by=\"id\", value=\"ctblc_desc\").text\n",
    "    driver.find_element(by=\"css selector\", value=\".btn-close-popup\").click()\n",
    "    return {'headline': headline, 'description': description}"
   ]
  },
  {
   "cell_type": "code",
   "execution_count": null,
   "metadata": {},
   "outputs": [],
   "source": [
    "metadata = []\n",
    "for link in driver.find_elements(by=\"css selector\", value=\".hovThumb.blankDL\"):\n",
    "    link.click()\n",
    "    metadata.append(get_popup_content())"
   ]
  },
  {
   "cell_type": "code",
   "execution_count": null,
   "metadata": {},
   "outputs": [],
   "source": [
    "from selenium.webdriver.support.ui import WebDriverWait\n",
    "from selenium.webdriver.support import expected_conditions as EC\n",
    "from selenium.webdriver.common.by import By\n",
    "from selenium.common.exceptions import TimeoutException"
   ]
  },
  {
   "cell_type": "code",
   "execution_count": null,
   "metadata": {},
   "outputs": [],
   "source": [
    "def get_popup_content():\n",
    "    try:\n",
    "        headline = driver.find_element(by=\"id\", value=\"ctblc_headline\").text\n",
    "    except NoSuchElementException:\n",
    "        headline = \"\"\n",
    "    description = driver.find_element(by=\"id\", value=\"ctblc_desc\").text\n",
    "    driver.find_element(by=\"css selector\", value=\".btn-close-popup\").click()\n",
    "    return {'headline': headline, 'description': description}"
   ]
  },
  {
   "cell_type": "code",
   "execution_count": null,
   "metadata": {},
   "outputs": [],
   "source": [
    "metadata = []\n",
    "delay = 3 # seconds\n",
    "for link in driver.find_elements(by=\"css selector\", value=\".hovThumb.blankDL\"):\n",
    "    link.click()\n",
    "    try:\n",
    "        WebDriverWait(driver, delay).until(EC.presence_of_element_located((By.ID, 'menuDetailsTab')))\n",
    "        metadata.append(get_popup_content())\n",
    "        WebDriverWait(driver, delay).until(EC.invisibility_of_element_located((By.ID, 'menuDetailsTab')))\n",
    "    except TimeoutException:\n",
    "        print(\"Loading took too much time!\")"
   ]
  },
  {
   "cell_type": "code",
   "execution_count": null,
   "metadata": {},
   "outputs": [],
   "source": [
    "len(metadata)"
   ]
  },
  {
   "cell_type": "code",
   "execution_count": null,
   "metadata": {},
   "outputs": [],
   "source": [
    "counter = 0\n",
    "metadata = []\n",
    "delay = 3 # seconds\n",
    "while True:\n",
    "    try:\n",
    "        link = driver.find_elements(by=\"css selector\", value=\".hovThumb.blankDL\")[counter]\n",
    "        link.click()\n",
    "        counter += 1\n",
    "        try:\n",
    "            WebDriverWait(driver, delay).until(EC.presence_of_element_located((By.ID, 'menuDetailsTab')))\n",
    "            metadata.append(get_popup_content())\n",
    "            WebDriverWait(driver, delay).until(EC.invisibility_of_element_located((By.ID, 'menuDetailsTab')))\n",
    "        except TimeoutException:\n",
    "            print(\"Loading took too much time!\")\n",
    "    except IndexError:\n",
    "        break"
   ]
  },
  {
   "cell_type": "code",
   "execution_count": null,
   "metadata": {},
   "outputs": [],
   "source": [
    "len(metadata)"
   ]
  },
  {
   "cell_type": "code",
   "execution_count": null,
   "metadata": {},
   "outputs": [],
   "source": []
  }
 ],
 "metadata": {
  "kernelspec": {
   "display_name": "Python 3 (ipykernel)",
   "language": "python",
   "name": "python3"
  },
  "language_info": {
   "codemirror_mode": {
    "name": "ipython",
    "version": 3
   },
   "file_extension": ".py",
   "mimetype": "text/x-python",
   "name": "python",
   "nbconvert_exporter": "python",
   "pygments_lexer": "ipython3",
   "version": "3.9.10"
  }
 },
 "nbformat": 4,
 "nbformat_minor": 4
}
