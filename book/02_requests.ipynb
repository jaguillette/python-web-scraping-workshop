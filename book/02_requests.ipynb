{
 "cells": [
  {
   "cell_type": "markdown",
   "metadata": {},
   "source": [
    "# Requests"
   ]
  },
  {
   "cell_type": "markdown",
   "metadata": {},
   "source": [
    "Requests is a Python library for getting web pages. It's very useful for working with APIs, but we'll only be using some basic functionality to fetch web pages.\n",
    "\n",
    "## Basic Request\n",
    "\n",
    "For this part of the workshop, we'll be trying to get data from each of the lists linked from this [Wikipedia list of lists of legendary creatures](https://en.wikipedia.org/wiki/Lists_of_legendary_creatures). To start, we'll just use `requests` to get that starting page, to show how simple it can be."
   ]
  },
  {
   "cell_type": "code",
   "execution_count": null,
   "metadata": {},
   "outputs": [],
   "source": [
    "# Import requests\n",
    "import requests"
   ]
  },
  {
   "cell_type": "code",
   "execution_count": null,
   "metadata": {},
   "outputs": [],
   "source": [
    "# Define our url\n",
    "url = \"https://en.wikipedia.org/wiki/Lists_of_legendary_creatures\""
   ]
  },
  {
   "cell_type": "code",
   "execution_count": null,
   "metadata": {},
   "outputs": [],
   "source": [
    "# Make a request\n",
    "# R will be a response object\n",
    "R = requests.get(url)"
   ]
  },
  {
   "cell_type": "code",
   "execution_count": null,
   "metadata": {},
   "outputs": [],
   "source": [
    "# We can get basic information, like the HTTP response status code\n",
    "# This can be useful for checking if your request went through, \n",
    "# or if there was an error\n",
    "R.status_code"
   ]
  },
  {
   "cell_type": "code",
   "execution_count": null,
   "metadata": {},
   "outputs": [],
   "source": [
    "# The text attribute has the HTML of the response\n",
    "# This is what we'll feed to the library actually doing the parsing\n",
    "# I'm just displaying the first 200 characters, the full text is just R.text\n",
    "R.text[:200]"
   ]
  },
  {
   "cell_type": "markdown",
   "metadata": {},
   "source": [
    "## Extra features\n",
    "\n",
    "That's all we'll need from requests for the purpose of this workshop, but I want to point out another feature that I use a lot in requests.\n",
    "\n",
    "You can define HTTP GET parameters (the things you'll see at the end of a url that look like `?foo=bar&biz=buz`) in a dictionary object and feed them to your request. Since these parameters are often used by websites in ways that you might use in web scraping, I want to give a quick overview of this functionality."
   ]
  },
  {
   "cell_type": "code",
   "execution_count": null,
   "metadata": {},
   "outputs": [],
   "source": [
    "# This is a long url that's hard to work with\n",
    "longurl = \"https://anth1130.omeka.fas.harvard.edu/elasticsearch?q=sherd&facet_itemtype=Archaeological+Find&facet_tags%5B%5D=ceramic\""
   ]
  },
  {
   "cell_type": "code",
   "execution_count": null,
   "metadata": {},
   "outputs": [],
   "source": [
    "# If you're just starting with Python, this might be your first instinct to \n",
    "# insert a variable into this url.\n",
    "# That's fine, and it will work, but it gets annoying to work with after a while\n",
    "searchterm = \"sherd\"\n",
    "longurl = \"https://anth1130.omeka.fas.harvard.edu/elasticsearch?q=\" + searchterm + \"&facet_itemtype=Archaeological+Find&facet_tags%5B%5D=ceramic\""
   ]
  },
  {
   "cell_type": "code",
   "execution_count": null,
   "metadata": {},
   "outputs": [],
   "source": [
    "# Here's our first request with that long url\n",
    "R1 = requests.get(longurl)\n",
    "R1.text[:1000]"
   ]
  },
  {
   "cell_type": "code",
   "execution_count": null,
   "metadata": {},
   "outputs": [],
   "source": [
    "# Here's what that definition can look like using a dict to define GET parameters\n",
    "# Note how much easier it is to insert a variable into the parameters\n",
    "baseurl = \"https://anth1130.omeka.fas.harvard.edu/elasticsearch\"\n",
    "searchterm = \"sherd\"\n",
    "params = {\n",
    "    \"q\": searchterm,\n",
    "    \"facet_itemtype\": \"Archaeological Find\",\n",
    "    \"facet_tags[]\": \"ceramic\"\n",
    "}"
   ]
  },
  {
   "cell_type": "code",
   "execution_count": null,
   "metadata": {},
   "outputs": [],
   "source": [
    "# Here's our second request, this time using a dict to define GET parameters\n",
    "R2 = requests.get(baseurl, params=params)"
   ]
  },
  {
   "cell_type": "code",
   "execution_count": null,
   "metadata": {},
   "outputs": [],
   "source": [
    "# You can always check the url that was used to make the request\n",
    "# Note how the params we defined are there, but they may not be in the same order\n",
    "R2.url"
   ]
  },
  {
   "cell_type": "code",
   "execution_count": null,
   "metadata": {},
   "outputs": [],
   "source": [
    "# Here's the start of the text of our response\n",
    "R2.text[:1000]"
   ]
  },
  {
   "cell_type": "code",
   "execution_count": null,
   "metadata": {},
   "outputs": [],
   "source": [
    "# Did our two requests produce the same results?\n",
    "R2.text == R1.text"
   ]
  }
 ],
 "metadata": {
  "kernelspec": {
   "display_name": "Python 3 (ipykernel)",
   "language": "python",
   "name": "python3"
  },
  "language_info": {
   "codemirror_mode": {
    "name": "ipython",
    "version": 3
   },
   "file_extension": ".py",
   "mimetype": "text/x-python",
   "name": "python",
   "nbconvert_exporter": "python",
   "pygments_lexer": "ipython3",
   "version": "3.9.10"
  }
 },
 "nbformat": 4,
 "nbformat_minor": 4
}
