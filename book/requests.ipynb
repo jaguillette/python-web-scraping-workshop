{
 "cells": [
  {
   "cell_type": "markdown",
   "metadata": {},
   "source": [
    "# Requests\n",
    "\n",
    "[Site to scrape](https://en.wikipedia.org/wiki/Lists_of_legendary_creatures)"
   ]
  },
  {
   "cell_type": "code",
   "execution_count": 1,
   "metadata": {},
   "outputs": [],
   "source": [
    "import requests"
   ]
  },
  {
   "cell_type": "code",
   "execution_count": 2,
   "metadata": {},
   "outputs": [],
   "source": [
    "url = \"https://en.wikipedia.org/wiki/Lists_of_legendary_creatures\""
   ]
  },
  {
   "cell_type": "code",
   "execution_count": 3,
   "metadata": {},
   "outputs": [],
   "source": [
    "R = requests.get(url)"
   ]
  },
  {
   "cell_type": "code",
   "execution_count": 4,
   "metadata": {},
   "outputs": [
    {
     "data": {
      "text/plain": [
       "200"
      ]
     },
     "execution_count": 4,
     "metadata": {},
     "output_type": "execute_result"
    }
   ],
   "source": [
    "R.status_code"
   ]
  },
  {
   "cell_type": "code",
   "execution_count": 5,
   "metadata": {},
   "outputs": [
    {
     "data": {
      "text/plain": [
       "'<!DOCTYPE html>\\n<html class=\"client-nojs\" lang=\"en\" dir=\"ltr\">\\n<head>\\n<meta charset=\"UTF-8\"/>\\n<title>Lists of legendary creatures - Wikipedia</title>\\n<script>document.documentElement.className=\"client'"
      ]
     },
     "execution_count": 5,
     "metadata": {},
     "output_type": "execute_result"
    }
   ],
   "source": [
    "R.text[:200]"
   ]
  },
  {
   "cell_type": "markdown",
   "metadata": {},
   "source": [
    "## Extra features"
   ]
  },
  {
   "cell_type": "code",
   "execution_count": 25,
   "metadata": {},
   "outputs": [],
   "source": [
    "longurl = \"https://anth1130.omeka.fas.harvard.edu/elasticsearch?q=sherd&facet_itemtype=Archaeological+Find&facet_tags%5B%5D=ceramic\""
   ]
  },
  {
   "cell_type": "code",
   "execution_count": 26,
   "metadata": {},
   "outputs": [
    {
     "data": {
      "text/plain": [
       "'<!DOCTYPE html>\\n<html class=\"\" lang=\"en-US\">\\n<head>\\n    <meta charset=\"utf-8\">\\n    <meta name=\"viewport\" content=\"width=device-width, initial-scale=1.0, user-scalable=yes\" />\\n    \\n        <title>Elasticsearch &middot; ANTH 1130</title>\\n\\n    <link rel=\"alternate\" type=\"application/rss+xml\" title=\"Omeka RSS Feed\" href=\"/items/browse?output=rss2\" /><link rel=\"alternate\" type=\"application/atom+xml\" title=\"Omeka Atom Feed\" href=\"/items/browse?output=atom\" />\\n        <!-- Stylesheets -->\\n    <link href=\"/plugins/Elasticsearch/views/shared/css/elasticsearch-results.css?v=3.0.1\" media=\"all\" rel=\"stylesheet\" type=\"text/css\" >\\n<link href=\"/application/views/scripts/css/iconfonts.css?v=3.0.1\" media=\"all\" rel=\"stylesheet\" type=\"text/css\" >\\n<link href=\"https://anth1130.omeka.fas.harvard.edu/themes/hvd-dh-omeka-theme/css/screen.css?v=3.0.1\" media=\"all\" rel=\"stylesheet\" type=\"text/css\" >\\n<link href=\"https://anth1130.omeka.fas.harvard.edu/themes/hvd-dh-omeka-theme/css/jquery.fancybox.css?v=3.0.1\" medi'"
      ]
     },
     "execution_count": 26,
     "metadata": {},
     "output_type": "execute_result"
    }
   ],
   "source": [
    "R1 = requests.get(longurl)\n",
    "R1.text[:1000]"
   ]
  },
  {
   "cell_type": "code",
   "execution_count": 27,
   "metadata": {},
   "outputs": [],
   "source": [
    "baseurl = \"https://anth1130.omeka.fas.harvard.edu/elasticsearch\"\n",
    "params = {\n",
    "    \"q\": \"sherd\",\n",
    "    \"facet_itemtype\": \"Archaeological Find\",\n",
    "    \"facet_tags[]\": \"ceramic\"\n",
    "}"
   ]
  },
  {
   "cell_type": "code",
   "execution_count": 28,
   "metadata": {},
   "outputs": [],
   "source": [
    "R2 = requests.get(baseurl, params=params)"
   ]
  },
  {
   "cell_type": "code",
   "execution_count": 29,
   "metadata": {},
   "outputs": [
    {
     "data": {
      "text/plain": [
       "'https://anth1130.omeka.fas.harvard.edu/elasticsearch?q=sherd&facet_itemtype=Archaeological+Find&facet_tags%5B%5D=ceramic'"
      ]
     },
     "execution_count": 29,
     "metadata": {},
     "output_type": "execute_result"
    }
   ],
   "source": [
    "R2.url"
   ]
  },
  {
   "cell_type": "code",
   "execution_count": 30,
   "metadata": {},
   "outputs": [
    {
     "data": {
      "text/plain": [
       "'<!DOCTYPE html>\\n<html class=\"\" lang=\"en-US\">\\n<head>\\n    <meta charset=\"utf-8\">\\n    <meta name=\"viewport\" content=\"width=device-width, initial-scale=1.0, user-scalable=yes\" />\\n    \\n        <title>Elasticsearch &middot; ANTH 1130</title>\\n\\n    <link rel=\"alternate\" type=\"application/rss+xml\" title=\"Omeka RSS Feed\" href=\"/items/browse?output=rss2\" /><link rel=\"alternate\" type=\"application/atom+xml\" title=\"Omeka Atom Feed\" href=\"/items/browse?output=atom\" />\\n        <!-- Stylesheets -->\\n    <link href=\"/plugins/Elasticsearch/views/shared/css/elasticsearch-results.css?v=3.0.1\" media=\"all\" rel=\"stylesheet\" type=\"text/css\" >\\n<link href=\"/application/views/scripts/css/iconfonts.css?v=3.0.1\" media=\"all\" rel=\"stylesheet\" type=\"text/css\" >\\n<link href=\"https://anth1130.omeka.fas.harvard.edu/themes/hvd-dh-omeka-theme/css/screen.css?v=3.0.1\" media=\"all\" rel=\"stylesheet\" type=\"text/css\" >\\n<link href=\"https://anth1130.omeka.fas.harvard.edu/themes/hvd-dh-omeka-theme/css/jquery.fancybox.css?v=3.0.1\" medi'"
      ]
     },
     "execution_count": 30,
     "metadata": {},
     "output_type": "execute_result"
    }
   ],
   "source": [
    "R2.text[:1000]"
   ]
  },
  {
   "cell_type": "code",
   "execution_count": 31,
   "metadata": {},
   "outputs": [
    {
     "data": {
      "text/plain": [
       "True"
      ]
     },
     "execution_count": 31,
     "metadata": {},
     "output_type": "execute_result"
    }
   ],
   "source": [
    "R2.text == R1.text"
   ]
  }
 ],
 "metadata": {
  "kernelspec": {
   "display_name": "Python 3 (ipykernel)",
   "language": "python",
   "name": "python3"
  },
  "language_info": {
   "codemirror_mode": {
    "name": "ipython",
    "version": 3
   },
   "file_extension": ".py",
   "mimetype": "text/x-python",
   "name": "python",
   "nbconvert_exporter": "python",
   "pygments_lexer": "ipython3",
   "version": "3.9.10"
  }
 },
 "nbformat": 4,
 "nbformat_minor": 4
}
